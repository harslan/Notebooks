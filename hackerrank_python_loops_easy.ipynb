{
  "nbformat": 4,
  "nbformat_minor": 0,
  "metadata": {
    "colab": {
      "name": "hackerrank_python_loops_easy.ipynb",
      "provenance": [],
      "collapsed_sections": [],
      "authorship_tag": "ABX9TyM6FVtNOkyfQrboWc7DIBwF",
      "include_colab_link": true
    },
    "kernelspec": {
      "name": "python3",
      "display_name": "Python 3"
    }
  },
  "cells": [
    {
      "cell_type": "markdown",
      "metadata": {
        "id": "view-in-github",
        "colab_type": "text"
      },
      "source": [
        "<a href=\"https://colab.research.google.com/github/harslan/Notebooks/blob/master/hackerrank_python_loops_easy.ipynb\" target=\"_parent\"><img src=\"https://colab.research.google.com/assets/colab-badge.svg\" alt=\"Open In Colab\"/></a>"
      ]
    },
    {
      "cell_type": "code",
      "metadata": {
        "id": "uEFsYQo5AZpE",
        "colab_type": "code",
        "colab": {}
      },
      "source": [
        "if __name__ == '__main__':\n",
        "    n = int(input())\n",
        "    counter = 0\n",
        "    while counter < n:\n",
        "      print(counter * counter)\n",
        "      counter = counter + 1\n"
      ],
      "execution_count": 0,
      "outputs": []
    }
  ]
}