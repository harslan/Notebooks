{
  "nbformat": 4,
  "nbformat_minor": 0,
  "metadata": {
    "colab": {
      "name": "hackerrank_python_print_easy.ipynb",
      "provenance": [],
      "collapsed_sections": [],
      "authorship_tag": "ABX9TyNInUA7LWsQQPijAZ1o/qTC",
      "include_colab_link": true
    },
    "kernelspec": {
      "name": "python3",
      "display_name": "Python 3"
    }
  },
  "cells": [
    {
      "cell_type": "markdown",
      "metadata": {
        "id": "view-in-github",
        "colab_type": "text"
      },
      "source": [
        "<a href=\"https://colab.research.google.com/github/harslan/Notebooks/blob/master/hackerrank_python_print_easy.ipynb\" target=\"_parent\"><img src=\"https://colab.research.google.com/assets/colab-badge.svg\" alt=\"Open In Colab\"/></a>"
      ]
    },
    {
      "cell_type": "code",
      "metadata": {
        "id": "ZfX3VOKRIwwh",
        "colab_type": "code",
        "colab": {}
      },
      "source": [
        "if __name__ == '__main__':\n",
        "    n = int(input())\n",
        "    counter = 1\n",
        "    text = ''\n",
        "    while counter <=n:\n",
        "      text = text + str(counter)\n",
        "      counter = counter + 1\n",
        "    print(text)\n"
      ],
      "execution_count": 0,
      "outputs": []
    }
  ]
}