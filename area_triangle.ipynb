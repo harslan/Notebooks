{
  "nbformat": 4,
  "nbformat_minor": 0,
  "metadata": {
    "colab": {
      "name": "area_triangle.ipynb",
      "provenance": [],
      "authorship_tag": "ABX9TyODcoVAM5/gDGzpR7Mo5eOl",
      "include_colab_link": true
    },
    "kernelspec": {
      "name": "python3",
      "display_name": "Python 3"
    }
  },
  "cells": [
    {
      "cell_type": "markdown",
      "metadata": {
        "id": "view-in-github",
        "colab_type": "text"
      },
      "source": [
        "<a href=\"https://colab.research.google.com/github/harslan/Notebooks/blob/master/area_triangle.ipynb\" target=\"_parent\"><img src=\"https://colab.research.google.com/assets/colab-badge.svg\" alt=\"Open In Colab\"/></a>"
      ]
    },
    {
      "cell_type": "code",
      "metadata": {
        "id": "zAHLutEDoamg",
        "colab_type": "code",
        "colab": {}
      },
      "source": [
        "def area_triangle(height, width):\n",
        "    \n",
        "    area = (height * width) / 2\n",
        "    \n",
        "    return area"
      ],
      "execution_count": 0,
      "outputs": []
    },
    {
      "cell_type": "code",
      "metadata": {
        "id": "7mimMQ0Fopht",
        "colab_type": "code",
        "colab": {}
      },
      "source": [
        "assert area_triangle(10,8) == 40"
      ],
      "execution_count": 0,
      "outputs": []
    },
    {
      "cell_type": "code",
      "metadata": {
        "id": "nmuT70Aooy3j",
        "colab_type": "code",
        "colab": {}
      },
      "source": [
        ""
      ],
      "execution_count": 0,
      "outputs": []
    }
  ]
}