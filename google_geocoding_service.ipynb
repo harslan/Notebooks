{
  "nbformat": 4,
  "nbformat_minor": 0,
  "metadata": {
    "colab": {
      "name": "google_geocoding_service.ipynb",
      "provenance": [],
      "collapsed_sections": [],
      "authorship_tag": "ABX9TyMNolkF9VgzQ/8peQcEnLB8",
      "include_colab_link": true
    },
    "kernelspec": {
      "name": "python3",
      "display_name": "Python 3"
    }
  },
  "cells": [
    {
      "cell_type": "markdown",
      "metadata": {
        "id": "view-in-github",
        "colab_type": "text"
      },
      "source": [
        "<a href=\"https://colab.research.google.com/github/harslan/Notebooks/blob/master/google_geocoding_service.ipynb\" target=\"_parent\"><img src=\"https://colab.research.google.com/assets/colab-badge.svg\" alt=\"Open In Colab\"/></a>"
      ]
    },
    {
      "cell_type": "code",
      "metadata": {
        "id": "ea721MtlcSwI",
        "colab_type": "code",
        "colab": {}
      },
      "source": [
        "import urllib.request, urllib.parse, urllib.error \n",
        "import json \n",
        "import ssl \n",
        "api_key = False \n",
        "# If you have a Google Places API key, enter it here \n",
        "# api_key = 'AIzaSy___IDByT70' \n",
        "# https://developers.google.com/maps/documentation/geocoding/intro \n",
        "\n",
        "if api_key is False: \n",
        "  api_key = 42 \n",
        "  serviceurl = 'http://py4e-data.dr-chuck.net/json?' \n",
        "else : \n",
        "  serviceurl = 'https://maps.googleapis.com/maps/api/geocode/json?' \n",
        "\n",
        "# Ignore SSL certificate errors\n",
        "ctx = ssl.create_default_context() \n",
        "ctx.check_hostname = False \n",
        "ctx.verify_mode = ssl.CERT_NONE \n",
        "\n",
        "while True: \n",
        "  address = input('Enter location: ') \n",
        "  if len(address) < 1: break \n",
        "\n",
        "  parms = dict() \n",
        "  parms['address'] = address \n",
        "  if api_key is not False: parms['key'] = api_key \n",
        "  url = serviceurl + urllib.parse.urlencode(parms) \n",
        "  \n",
        "  \n",
        "  print('Retrieving', url) \n",
        "  uh = urllib.request.urlopen(url, context=ctx) \n",
        "  data = uh.read().decode() \n",
        "  print('Retrieved', len(data), 'characters') \n",
        "  \n",
        "  try: \n",
        "    js = json.loads(data) \n",
        "  except: \n",
        "    js = None \n",
        "  \n",
        "  if not js or 'status' not in js or js['status'] != 'OK': \n",
        "    print('==== Failure To Retrieve ====') \n",
        "    print(data) \n",
        "    continue \n",
        "    \n",
        "  print(json.dumps(js, indent=4)) \n",
        "  \n",
        "  lat = js['results'][0]['geometry']['location']['lat'] \n",
        "  lng = js['results'][0]['geometry']['location']['lng'] \n",
        "  print('lat', lat, 'lng', lng) \n",
        "  location = js['results'][0]['formatted_address'] \n",
        "  print(location)"
      ],
      "execution_count": 0,
      "outputs": []
    }
  ]
}